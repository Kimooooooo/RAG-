{
 "cells": [
  {
   "cell_type": "code",
   "execution_count": null,
   "id": "145a349e",
   "metadata": {},
   "outputs": [],
   "source": [
    "import requests\n",
    "\n",
    "url = \"https://api.steampowered.com/ISteamApps/GetAppList/v2/\"\n",
    "response = requests.get(url)\n",
    "data = response.json()\n",
    "apps = data[\"applist\"][\"apps\"]\n",
    "data"
   ]
  },
  {
   "cell_type": "code",
   "execution_count": null,
   "id": "87fb7178",
   "metadata": {},
   "outputs": [],
   "source": [
    "appid = 150\n",
    "details_url = f\"https://store.steampowered.com/api/appdetails?appids={appid}\"\n",
    "details_resp = requests.get(details_url)\n",
    "details_data = details_resp.json()\n",
    "\n",
    "print(details_data)\n",
    "if details_data[str(appid)]['success']:\n",
    "    app_info = details_data[str(appid)][\"data\"]\n",
    "    if app_info.get('type') == 'game':\n",
    "        print('게임입니다')\n",
    "    else : \n",
    "        print('제외대상입니다')"
   ]
  },
  {
   "cell_type": "code",
   "execution_count": 1,
   "id": "282533c7",
   "metadata": {},
   "outputs": [
    {
     "name": "stderr",
     "output_type": "stream",
     "text": [
      "C:\\Users\\main\\AppData\\Local\\Temp\\ipykernel_12836\\428924196.py:25: FutureWarning: DataFrame.applymap has been deprecated. Use DataFrame.map instead.\n",
      "  mask_russian = df[[\"genres\", \"release_date\", \"description_kr\"]].applymap(contains_cyrillic).any(axis=1)\n",
      "Steam 한국어 페이지로 업데이트 중: 100%|██████████| 9732/9732 [1:58:05<00:00,  1.37it/s]  \n"
     ]
    },
    {
     "name": "stdout",
     "output_type": "stream",
     "text": [
      "✅ 완료: 외국어 포함 항목을 한국어 페이지 기준으로 덮어씌웠습니다.\n"
     ]
    }
   ],
   "source": [
    "import pandas as pd\n",
    "import re\n",
    "import requests\n",
    "from bs4 import BeautifulSoup\n",
    "from tqdm import tqdm\n",
    "\n",
    "# 1. CSV 불러오기\n",
    "df = pd.read_csv(\"스팀게임파일.csv\")\n",
    "\n",
    "# 2. 외국어 감지 함수 정의\n",
    "def contains_cyrillic(text):\n",
    "    if pd.isna(text):\n",
    "        return False\n",
    "    return bool(re.search('[\\u0400-\\u04FF]', str(text)))\n",
    "\n",
    "def mostly_english(text):\n",
    "    if pd.isna(text):\n",
    "        return False\n",
    "    text = str(text)\n",
    "    korean_chars = len(re.findall('[가-힣]', text))\n",
    "    english_chars = len(re.findall('[A-Za-z]', text))\n",
    "    return english_chars > 20 and korean_chars < 5\n",
    "\n",
    "# 3. 러시아어 또는 영어 비중 높은 항목 필터링\n",
    "mask_russian = df[[\"genres\", \"release_date\", \"description_kr\"]].applymap(contains_cyrillic).any(axis=1)\n",
    "mask_english = df[\"description_kr\"].apply(mostly_english)\n",
    "mask_foreign = mask_russian | mask_english\n",
    "foreign_indexes = df[mask_foreign].index\n",
    "\n",
    "# 4. Steam 페이지에서 한국어 정보 크롤링 함수\n",
    "def get_korean_info_from_steam(appid):\n",
    "    url = f\"https://store.steampowered.com/app/{appid}/?l=koreana\"\n",
    "    headers = {'User-Agent': 'Mozilla/5.0'}\n",
    "    try:\n",
    "        resp = requests.get(url, headers=headers, timeout=10)\n",
    "        soup = BeautifulSoup(resp.text, \"html.parser\")\n",
    "\n",
    "        name = soup.select_one(\".apphub_AppName\")\n",
    "        description = soup.select_one(\"#game_area_description\")\n",
    "        date = soup.select_one(\".release_date .date\")\n",
    "        genre_tags = soup.select('div.details_block a[href*=\"genre\"]')\n",
    "\n",
    "        return {\n",
    "            \"name_kr\": name.get_text(strip=True) if name else None,\n",
    "            \"description_kr\": description.get_text(strip=True) if description else None,\n",
    "            \"release_date\": date.get_text(strip=True) if date else None,\n",
    "            \"genres\": \", \".join([tag.text.strip() for tag in genre_tags]) if genre_tags else None\n",
    "        }\n",
    "    except Exception as e:\n",
    "        print(f\"[{appid}] 크롤링 실패: {e}\")\n",
    "        return {}\n",
    "\n",
    "# 5. 필터된 게임에 대해 크롤링하여 덮어쓰기\n",
    "for idx in tqdm(foreign_indexes, desc=\"Steam 한국어 페이지로 업데이트 중\"):\n",
    "    appid = df.loc[idx, \"appid\"]\n",
    "    new_data = get_korean_info_from_steam(appid)\n",
    "    for col in [\"name_kr\", \"description_kr\", \"genres\", \"release_date\"]:\n",
    "        if new_data.get(col):  # 새 값이 있으면 덮어쓰기\n",
    "            df.at[idx, col] = new_data[col]\n",
    "\n",
    "# 6. 결과 저장\n",
    "df.to_csv(\"스팀게임파일_한글정제완료.csv\", index=False, encoding=\"utf-8-sig\")\n",
    "print(\"✅ 완료: 외국어 포함 항목을 한국어 페이지 기준으로 덮어씌웠습니다.\")\n"
   ]
  }
 ],
 "metadata": {
  "kernelspec": {
   "display_name": "langchain_env",
   "language": "python",
   "name": "python3"
  },
  "language_info": {
   "codemirror_mode": {
    "name": "ipython",
    "version": 3
   },
   "file_extension": ".py",
   "mimetype": "text/x-python",
   "name": "python",
   "nbconvert_exporter": "python",
   "pygments_lexer": "ipython3",
   "version": "3.12.11"
  }
 },
 "nbformat": 4,
 "nbformat_minor": 5
}
