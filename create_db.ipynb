{
 "cells": [
  {
   "cell_type": "code",
   "execution_count": null,
   "id": "ee491203",
   "metadata": {},
   "outputs": [],
   "source": [
    "from langchain_openai import OpenAIEmbeddings\n",
    "from langchain_chroma import Chroma\n",
    "from langchain.docstore.document import Document\n",
    "from langchain.text_splitter import RecursiveCharacterTextSplitter\n",
    "\n",
    "import pandas as pd \n",
    "\n",
    "# appid,name_kr,genres,release_date,is_coming_soon,initial_price,description_kr,category,new_description,screenshots\n",
    "\n",
    "df = pd.read_csv('스팀게임파일.csv')\n",
    "# 문서화\n",
    "\n",
    "splitter = RecursiveCharacterTextSplitter(chunk_size=500,chunk_overlap=50)\n",
    "doc = []\n",
    "for index,row in df.iterrows():\n",
    "    text = (\n",
    "    f\"장르 = {row['genres']}\\n\"\n",
    "    f\"카테고리 = {row['category']}\\n\"\n",
    "    f\"간단한설명 = {row['description_kr']}\\n\"\n",
    "    f\"게임설명 = {row['new_description']}\\n\"\n",
    ")\n",
    "    chunks = splitter.split_text(text)\n",
    "    for chunk in chunks:\n",
    "        doc.append(Document(\n",
    "            page_content=chunk,\n",
    "            metadata={\n",
    "                \"appid\": row['appid'],\n",
    "                \"name\": row['name_kr'],\n",
    "                \"genres\": row['genres'],\n",
    "                \"release_date\": row['release_date'],\n",
    "                \"price\": row['initial_price'],\n",
    "                \"screenshots\": row['screenshots']   \n",
    "            }\n",
    "        ))\n",
    "\n"
   ]
  },
  {
   "cell_type": "code",
   "execution_count": null,
   "id": "f64fab6d",
   "metadata": {},
   "outputs": [],
   "source": [
    "\n",
    "import os\n",
    "api_key = os.getenv(\"OPENAI_API_KEY\")\n",
    "\n",
    "\n",
    "\n",
    "\n",
    "embeddings = OpenAIEmbeddings(model= 'text-embedding-3-large',openai_api_key = api_key)\n",
    "\n",
    "vectorstore = Chroma.from_documents(\n",
    "    documents=doc,\n",
    "    embedding=embeddings,\n",
    "    collection_name='games',\n",
    "    persist_directory='./games_db'\n",
    ")"
   ]
  }
 ],
 "metadata": {
  "kernelspec": {
   "display_name": "langchain_env",
   "language": "python",
   "name": "python3"
  },
  "language_info": {
   "codemirror_mode": {
    "name": "ipython",
    "version": 3
   },
   "file_extension": ".py",
   "mimetype": "text/x-python",
   "name": "python",
   "nbconvert_exporter": "python",
   "pygments_lexer": "ipython3",
   "version": "3.12.11"
  }
 },
 "nbformat": 4,
 "nbformat_minor": 5
}
