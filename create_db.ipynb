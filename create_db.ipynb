{
 "cells": [
  {
   "cell_type": "code",
   "execution_count": 1,
   "id": "ee491203",
   "metadata": {},
   "outputs": [],
   "source": [
    "from langchain_openai import OpenAIEmbeddings\n",
    "from langchain_chroma import Chroma\n",
    "from langchain.docstore.document import Document\n",
    "from langchain.text_splitter import RecursiveCharacterTextSplitter\n",
    "\n",
    "import pandas as pd \n",
    "\n",
    "# appid,name_kr,genres,release_date,is_coming_soon,initial_price,description_kr,category,new_description,screenshots\n",
    "\n",
    "df = pd.read_csv('스팀게임파일_한글정제완료.csv')\n",
    "# 문서화\n",
    "\n",
    "splitter = RecursiveCharacterTextSplitter(chunk_size=500,chunk_overlap=50)\n",
    "doc = []\n",
    "for index,row in df.iterrows():\n",
    "    text = (\n",
    "    f\"장르 = {row['genres']}\\n\"\n",
    "    f\"카테고리 = {row['category']}\\n\"\n",
    "    f\"간단한설명 = {row['description_kr']}\\n\"\n",
    "    f\"게임설명 = {row['new_description']}\\n\"\n",
    "    \n",
    ")\n",
    "    chunks = splitter.split_text(text)\n",
    "    for chunk in chunks:\n",
    "        doc.append(Document(\n",
    "            page_content=chunk,\n",
    "            metadata={\n",
    "                \"appid\": row['appid'],\n",
    "                \"name\": row['name_kr'],\n",
    "                \"genres\": row['genres'],\n",
    "                \"release_date\": row['release_date'],\n",
    "                \"price\": row['initial_price'],\n",
    "                \"screenshots\": '|'.join(row['screenshots']) if isinstance(row['screenshots'], list) else row['screenshots']\n",
    "\n",
    "            }\n",
    "        ))\n",
    "\n"
   ]
  },
  {
   "cell_type": "code",
   "execution_count": 2,
   "id": "f64fab6d",
   "metadata": {},
   "outputs": [],
   "source": [
    "\n",
    "import os\n",
    "api_key = os.getenv(\"OPENAI_API_KEY\")\n",
    "\n",
    "\n",
    "\n",
    "\n",
    "embeddings = OpenAIEmbeddings(model= 'text-embedding-3-large',openai_api_key = api_key)\n",
    "\n",
    "vectorstore = Chroma.from_documents(\n",
    "    documents=doc,\n",
    "    embedding=embeddings,\n",
    "    collection_name='games',\n",
    "    persist_directory='./games_db'\n",
    ")"
   ]
  },
  {
   "cell_type": "code",
   "execution_count": 2,
   "id": "0b2c8e59",
   "metadata": {},
   "outputs": [
    {
     "data": {
      "text/html": [
       "<div>\n",
       "<style scoped>\n",
       "    .dataframe tbody tr th:only-of-type {\n",
       "        vertical-align: middle;\n",
       "    }\n",
       "\n",
       "    .dataframe tbody tr th {\n",
       "        vertical-align: top;\n",
       "    }\n",
       "\n",
       "    .dataframe thead th {\n",
       "        text-align: right;\n",
       "    }\n",
       "</style>\n",
       "<table border=\"1\" class=\"dataframe\">\n",
       "  <thead>\n",
       "    <tr style=\"text-align: right;\">\n",
       "      <th></th>\n",
       "      <th>appid</th>\n",
       "      <th>name_kr</th>\n",
       "      <th>genres</th>\n",
       "      <th>release_date</th>\n",
       "      <th>is_coming_soon</th>\n",
       "      <th>initial_price</th>\n",
       "      <th>description_kr</th>\n",
       "      <th>category</th>\n",
       "      <th>new_description</th>\n",
       "      <th>screenshots</th>\n",
       "    </tr>\n",
       "  </thead>\n",
       "  <tbody>\n",
       "    <tr>\n",
       "      <th>615</th>\n",
       "      <td>229970</td>\n",
       "      <td>Armada 2526 Gold Edition</td>\n",
       "      <td>인디, 전략</td>\n",
       "      <td>2013년 2월 28일</td>\n",
       "      <td>False</td>\n",
       "      <td>21500.0</td>\n",
       "      <td>게임 정보Conquer the Galaxy In This ‘4x’ Strategy ...</td>\n",
       "      <td>싱글 플레이어|멀티플레이어|가족 공유</td>\n",
       "      <td>&lt;h2 class=\"bb_tag\"&gt;Conquer the Galaxy In This ...</td>\n",
       "      <td>https://shared.akamai.steamstatic.com/store_it...</td>\n",
       "    </tr>\n",
       "  </tbody>\n",
       "</table>\n",
       "</div>"
      ],
      "text/plain": [
       "      appid                   name_kr  genres  release_date is_coming_soon  \\\n",
       "615  229970  Armada 2526 Gold Edition  인디, 전략  2013년 2월 28일          False   \n",
       "\n",
       "    initial_price                                     description_kr  \\\n",
       "615       21500.0  게임 정보Conquer the Galaxy In This ‘4x’ Strategy ...   \n",
       "\n",
       "                 category                                    new_description  \\\n",
       "615  싱글 플레이어|멀티플레이어|가족 공유  <h2 class=\"bb_tag\">Conquer the Galaxy In This ...   \n",
       "\n",
       "                                           screenshots  \n",
       "615  https://shared.akamai.steamstatic.com/store_it...  "
      ]
     },
     "execution_count": 2,
     "metadata": {},
     "output_type": "execute_result"
    }
   ],
   "source": [
    "import pandas as pd\n",
    "df = pd.read_csv('스팀게임파일_한글정제완료.csv')\n",
    "df[df['appid']=='229970']"
   ]
  },
  {
   "cell_type": "code",
   "execution_count": 4,
   "id": "84ee619f",
   "metadata": {},
   "outputs": [
    {
     "data": {
      "text/html": [
       "<div>\n",
       "<style scoped>\n",
       "    .dataframe tbody tr th:only-of-type {\n",
       "        vertical-align: middle;\n",
       "    }\n",
       "\n",
       "    .dataframe tbody tr th {\n",
       "        vertical-align: top;\n",
       "    }\n",
       "\n",
       "    .dataframe thead th {\n",
       "        text-align: right;\n",
       "    }\n",
       "</style>\n",
       "<table border=\"1\" class=\"dataframe\">\n",
       "  <thead>\n",
       "    <tr style=\"text-align: right;\">\n",
       "      <th></th>\n",
       "      <th>appid</th>\n",
       "      <th>name_kr</th>\n",
       "      <th>genres</th>\n",
       "      <th>release_date</th>\n",
       "      <th>is_coming_soon</th>\n",
       "      <th>initial_price</th>\n",
       "      <th>description_kr</th>\n",
       "      <th>category</th>\n",
       "      <th>new_description</th>\n",
       "      <th>screenshots</th>\n",
       "    </tr>\n",
       "  </thead>\n",
       "  <tbody>\n",
       "    <tr>\n",
       "      <th>77</th>\n",
       "      <td>17390</td>\n",
       "      <td>SPORE™</td>\n",
       "      <td>Action, Adventure, Casual, RPG, Simulation, St...</td>\n",
       "      <td>19 Dec, 2008</td>\n",
       "      <td>False</td>\n",
       "      <td>22000.0</td>\n",
       "      <td>Be the architect of your own universe with Spo...</td>\n",
       "      <td>싱글 플레이어|Steam 트레이딩 카드|가족 공유</td>\n",
       "      <td>작은 세포에서 시작해 은하의 지배자까지, 우주에서 하나 뿐인 당신만의 생명체를 만들...</td>\n",
       "      <td>https://shared.akamai.steamstatic.com/store_it...</td>\n",
       "    </tr>\n",
       "  </tbody>\n",
       "</table>\n",
       "</div>"
      ],
      "text/plain": [
       "    appid name_kr                                             genres  \\\n",
       "77  17390  SPORE™  Action, Adventure, Casual, RPG, Simulation, St...   \n",
       "\n",
       "    release_date is_coming_soon initial_price  \\\n",
       "77  19 Dec, 2008          False       22000.0   \n",
       "\n",
       "                                       description_kr  \\\n",
       "77  Be the architect of your own universe with Spo...   \n",
       "\n",
       "                       category  \\\n",
       "77  싱글 플레이어|Steam 트레이딩 카드|가족 공유   \n",
       "\n",
       "                                      new_description  \\\n",
       "77  작은 세포에서 시작해 은하의 지배자까지, 우주에서 하나 뿐인 당신만의 생명체를 만들...   \n",
       "\n",
       "                                          screenshots  \n",
       "77  https://shared.akamai.steamstatic.com/store_it...  "
      ]
     },
     "execution_count": 4,
     "metadata": {},
     "output_type": "execute_result"
    }
   ],
   "source": [
    "df[df['appid']=='17390']"
   ]
  },
  {
   "cell_type": "code",
   "execution_count": 3,
   "id": "3fa02dba",
   "metadata": {},
   "outputs": [
    {
     "data": {
      "text/html": [
       "<div>\n",
       "<style scoped>\n",
       "    .dataframe tbody tr th:only-of-type {\n",
       "        vertical-align: middle;\n",
       "    }\n",
       "\n",
       "    .dataframe tbody tr th {\n",
       "        vertical-align: top;\n",
       "    }\n",
       "\n",
       "    .dataframe thead th {\n",
       "        text-align: right;\n",
       "    }\n",
       "</style>\n",
       "<table border=\"1\" class=\"dataframe\">\n",
       "  <thead>\n",
       "    <tr style=\"text-align: right;\">\n",
       "      <th></th>\n",
       "      <th>appid</th>\n",
       "      <th>name_kr</th>\n",
       "      <th>genres</th>\n",
       "      <th>release_date</th>\n",
       "      <th>is_coming_soon</th>\n",
       "      <th>initial_price</th>\n",
       "      <th>description_kr</th>\n",
       "      <th>category</th>\n",
       "      <th>new_description</th>\n",
       "      <th>screenshots</th>\n",
       "    </tr>\n",
       "  </thead>\n",
       "  <tbody>\n",
       "    <tr>\n",
       "      <th>3871</th>\n",
       "      <td>394360</td>\n",
       "      <td>Hearts of Iron IV</td>\n",
       "      <td>시뮬레이션, 전략</td>\n",
       "      <td>2016년 6월 6일</td>\n",
       "      <td>False</td>\n",
       "      <td>2769.0</td>\n",
       "      <td>게임 정보전략적 능력과 정치적 통찰력을 시험하는 대전략 전쟁 시뮬레이션 게임Hear...</td>\n",
       "      <td>싱글 플레이어|멀티플레이어|협동|크로스 플랫폼 멀티플레이어|Steam 도전 과제|S...</td>\n",
       "      <td>&lt;h1&gt;Hearts of Iron IV: Expansion Pass 1 Last C...</td>\n",
       "      <td>https://shared.akamai.steamstatic.com/store_it...</td>\n",
       "    </tr>\n",
       "  </tbody>\n",
       "</table>\n",
       "</div>"
      ],
      "text/plain": [
       "       appid            name_kr     genres release_date is_coming_soon  \\\n",
       "3871  394360  Hearts of Iron IV  시뮬레이션, 전략  2016년 6월 6일          False   \n",
       "\n",
       "     initial_price                                     description_kr  \\\n",
       "3871        2769.0  게임 정보전략적 능력과 정치적 통찰력을 시험하는 대전략 전쟁 시뮬레이션 게임Hear...   \n",
       "\n",
       "                                               category  \\\n",
       "3871  싱글 플레이어|멀티플레이어|협동|크로스 플랫폼 멀티플레이어|Steam 도전 과제|S...   \n",
       "\n",
       "                                        new_description  \\\n",
       "3871  <h1>Hearts of Iron IV: Expansion Pass 1 Last C...   \n",
       "\n",
       "                                            screenshots  \n",
       "3871  https://shared.akamai.steamstatic.com/store_it...  "
      ]
     },
     "execution_count": 3,
     "metadata": {},
     "output_type": "execute_result"
    }
   ],
   "source": [
    "df[df['appid']=='394360']"
   ]
  },
  {
   "cell_type": "code",
   "execution_count": 7,
   "id": "1605addc",
   "metadata": {},
   "outputs": [
    {
     "name": "stdout",
     "output_type": "stream",
     "text": [
      "None\n"
     ]
    }
   ],
   "source": [
    "from langchain.globals import get_llm_cache\n",
    "cache = get_llm_cache()\n",
    "print(cache)"
   ]
  },
  {
   "cell_type": "code",
   "execution_count": null,
   "id": "fc295842",
   "metadata": {},
   "outputs": [
    {
     "ename": "NameError",
     "evalue": "name 'chat_cache' is not defined",
     "output_type": "error",
     "traceback": [
      "\u001b[31m---------------------------------------------------------------------------\u001b[39m",
      "\u001b[31mNameError\u001b[39m                                 Traceback (most recent call last)",
      "\u001b[36mCell\u001b[39m\u001b[36m \u001b[39m\u001b[32mIn[8]\u001b[39m\u001b[32m, line 1\u001b[39m\n\u001b[32m----> \u001b[39m\u001b[32m1\u001b[39m \u001b[38;5;28;01mdel\u001b[39;00m \u001b[43mchat_cache\u001b[49m.db  \u001b[38;5;66;03m# Windows\u001b[39;00m\n",
      "\u001b[31mNameError\u001b[39m: name 'chat_cache' is not defined"
     ]
    }
   ],
   "source": []
  }
 ],
 "metadata": {
  "kernelspec": {
   "display_name": "langchain_env",
   "language": "python",
   "name": "python3"
  },
  "language_info": {
   "codemirror_mode": {
    "name": "ipython",
    "version": 3
   },
   "file_extension": ".py",
   "mimetype": "text/x-python",
   "name": "python",
   "nbconvert_exporter": "python",
   "pygments_lexer": "ipython3",
   "version": "3.12.11"
  }
 },
 "nbformat": 4,
 "nbformat_minor": 5
}
